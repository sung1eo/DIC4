{
 "cells": [
  {
   "cell_type": "code",
   "execution_count": 1,
   "id": "b79d8e0e-5ff3-4af3-978d-f25037c71599",
   "metadata": {},
   "outputs": [],
   "source": [
    "import pandas as pd\n",
    "import numpy as np\n",
    "import seaborn as sns\n",
    "from matplotlib import pyplot as plt\n",
    "import warnings\n",
    "warnings.filterwarnings('ignore')\n",
    "import re"
   ]
  },
  {
   "cell_type": "code",
   "execution_count": 20,
   "id": "80de7a7f-0445-45e6-8619-b0a5862e2f95",
   "metadata": {},
   "outputs": [],
   "source": [
    "# df.to_csv('df_type_total_230403.csv',index=False)\n",
    "df = pd.read_csv('df_type_total_230407.csv',index=False)"
   ]
  },
  {
   "cell_type": "code",
   "execution_count": null,
   "id": "97bd5d4e-7a90-42a5-89ca-b0ed6d9ea83d",
   "metadata": {},
   "outputs": [],
   "source": [
    "# 센서 종류\n",
    "sensors = ['C7H8', 'TMA', 'VOC', 'CO2', 'HCHO', 'H2S', 'NH3', 'CH3SH', 'SO2', 'NO2', 'CO']"
   ]
  },
  {
   "cell_type": "code",
   "execution_count": null,
   "id": "ee65e4e6-252c-466d-9236-5a5bdb80bd29",
   "metadata": {},
   "outputs": [],
   "source": [
    "df_stable = df[df['안정화']==1]"
   ]
  },
  {
   "cell_type": "code",
   "execution_count": null,
   "id": "7f1b8a6b-cf5e-4cf8-81f4-cbcb77eb8e04",
   "metadata": {},
   "outputs": [],
   "source": [
    "df_s = df_stable[sensors]\n",
    "df_s_t = df_stable[['C7H8', 'TMA', 'VOC', 'CO2', 'HCHO', 'H2S', 'NH3', 'CH3SH', 'SO2', 'NO2', 'CO', 'label_type']]\n",
    "df_s_d = df_stable[['C7H8', 'TMA', 'VOC', 'CO2', 'HCHO', 'H2S', 'NH3', 'CH3SH', 'SO2', 'NO2', 'CO', 'label_new']]"
   ]
  },
  {
   "cell_type": "code",
   "execution_count": null,
   "id": "270bee79-0807-4299-9e58-2d5d3ecbd618",
   "metadata": {},
   "outputs": [],
   "source": [
    "sns.pairplot(df_stable[['humi','NH3']])"
   ]
  },
  {
   "cell_type": "code",
   "execution_count": null,
   "id": "01df9af4-f1ce-4fe3-9d07-f2c90053b62d",
   "metadata": {},
   "outputs": [],
   "source": [
    "# pair plot\n",
    "sns.pairplot(df_s, diag_kind='kde')"
   ]
  },
  {
   "cell_type": "code",
   "execution_count": null,
   "id": "f19f4b52-fb8b-4dbf-8227-f3c809431c53",
   "metadata": {},
   "outputs": [],
   "source": [
    "# Create a correlation matrix\n",
    "corr_matrix = df_s.corr()\n",
    "\n",
    "# Create a heatmap of the correlation matrix\n",
    "\n",
    "fig, ax = plt.subplots(figsize=(10,8))\n",
    "sns.heatmap(corr_matrix, annot=True, ax=ax, cmap='coolwarm')\n",
    "\n",
    "plt.title('Heatmap of total data({})'.format(exp_date))\n",
    "plt.show()"
   ]
  },
  {
   "cell_type": "code",
   "execution_count": null,
   "id": "12100a5e-7326-4c18-a5f2-d1d52cee520e",
   "metadata": {},
   "outputs": [],
   "source": [
    "for label in df_s_t['label_type'].unique():\n",
    "    plt.figure(figsize=(10,8))\n",
    "    subset = df_s_t[df_s_t['label_type'] == label]\n",
    "    sns.heatmap(subset.corr(), annot=True, cmap='coolwarm')\n",
    "    plt.title(f'Heatmap of {label} Label Type')\n",
    "    plt.show()"
   ]
  },
  {
   "cell_type": "code",
   "execution_count": null,
   "id": "7766dca5-e2da-4bdd-93df-db26767f7fb6",
   "metadata": {},
   "outputs": [],
   "source": [
    "grouped = df_s_t.groupby('label_type')\n",
    "\n",
    "fig, axes = plt.subplots(nrows=4, ncols=3, figsize=(12, 16))\n",
    "rows = axes.shape[0]\n",
    "cols = axes.shape[1]\n",
    "\n",
    "alpha = 0.5\n",
    "\n",
    "i=0\n",
    "for r in range(rows):\n",
    "    for c in range(cols):\n",
    "        for label_type, group in grouped:\n",
    "            try: \n",
    "                axes[r,c].hist(group[sensors[i]], alpha=alpha, label=label_type)\n",
    "                axes[r,c].set_title('Distribution of {} by Label Type'.format(sensors[i]))\n",
    "                axes[r,c].legend()\n",
    "            except:\n",
    "                pass\n",
    "        i+=1\n",
    "\n",
    "# Adjust the layout and spacing of the subplots\n",
    "fig.tight_layout()\n",
    "\n",
    "# Show the plot\n",
    "plt.show()"
   ]
  },
  {
   "cell_type": "code",
   "execution_count": null,
   "id": "576399d1-61e7-4a46-a000-8b67270bb8ba",
   "metadata": {},
   "outputs": [],
   "source": [
    "df_s_d[df_s_t['label_type']=='B']['C7H8']"
   ]
  },
  {
   "cell_type": "code",
   "execution_count": null,
   "id": "e314dde6-69da-47af-9493-599fd282443d",
   "metadata": {},
   "outputs": [],
   "source": [
    "sorted(df_s_d[df_s_t['label_type']=='ME']['label_new'].unique(), reverse=True)"
   ]
  },
  {
   "cell_type": "code",
   "execution_count": null,
   "id": "036228c2-7b29-43d5-bae5-e0054ea7d995",
   "metadata": {},
   "outputs": [],
   "source": [
    "c_order = df_s_d[df_s_t['label_type']=='C']['label_new'].unique()\n",
    "b_order = ['161B', '903B','12565B', '125650B', '1138667B']\n",
    "en_order = [ '4EN', '53EN','411EN','46267EN', '4499630EN']\n",
    "me_order = ['3ME', '29ME', '157ME','23200ME', '2312222ME']\n",
    "\n",
    "[\n",
    " \n",
    " '5160ME',\n",
    " '48800ME',\n",
    " \n",
    " '3ME','6ME','29ME','51ME','157ME','438ME',\n",
    " \n",
    " '23200ME',\n",
    " '2312222ME',\n",
    " ]"
   ]
  },
  {
   "cell_type": "code",
   "execution_count": null,
   "id": "8a85198a-c1cd-4403-87b3-71c9634bd701",
   "metadata": {},
   "outputs": [],
   "source": []
  },
  {
   "cell_type": "code",
   "execution_count": null,
   "id": "f93024ab-838e-481d-be4e-2ee96b9fbb29",
   "metadata": {},
   "outputs": [],
   "source": []
  },
  {
   "cell_type": "code",
   "execution_count": null,
   "id": "fe4dd94f-e593-488b-911c-e48462a8ee44",
   "metadata": {},
   "outputs": [],
   "source": [
    "sns.barplot(x='label_new', y='C7H8', data = df_s_d[df_s_t['label_type']=='B'][['C7H8','label_new']], order = b_order)\n",
    "plt.show()"
   ]
  },
  {
   "cell_type": "code",
   "execution_count": null,
   "id": "10207131-06b3-4403-b8b9-c4e63e718a87",
   "metadata": {},
   "outputs": [],
   "source": [
    "sns.barplot(x='label_new', y='TMA', data = df_s_d[df_s_t['label_type']=='B'][['TMA','label_new']], order = b_order)"
   ]
  },
  {
   "cell_type": "code",
   "execution_count": null,
   "id": "8e787f8b-af01-4605-b1f0-112b8b00c055",
   "metadata": {},
   "outputs": [],
   "source": [
    "sns.barplot(x='label_new', y='VOC', data = df_s_d[df_s_t['label_type']=='B'][['VOC','label_new']], order = b_order)"
   ]
  },
  {
   "cell_type": "code",
   "execution_count": null,
   "id": "e4d52e1d-9b1a-47e8-9704-9286af0ff95d",
   "metadata": {},
   "outputs": [],
   "source": [
    "sns.barplot(x='label_new', y='VOC', data = df_s_d[df_s_t['label_type']=='ME'][['VOC','label_new']], order = me_order)"
   ]
  },
  {
   "cell_type": "code",
   "execution_count": null,
   "id": "98b7fa16-e672-496a-889c-977b4fdeda42",
   "metadata": {},
   "outputs": [],
   "source": [
    "sns.barplot(x='label_new', y='HCHO', data = df_s_d[df_s_t['label_type']=='B'][['HCHO','label_new']], order = b_order)"
   ]
  },
  {
   "cell_type": "code",
   "execution_count": null,
   "id": "c1f991f5-df56-4b85-b472-18510d2af252",
   "metadata": {
    "tags": []
   },
   "outputs": [],
   "source": [
    "sns.barplot(x='label_new', y='CO2', data = df_s_d[df_s_t['label_type']=='C'][['CO2','label_new']], order = c_order)"
   ]
  },
  {
   "cell_type": "code",
   "execution_count": null,
   "id": "179a5e90-aaac-4dc7-8afe-78b2c62ed6f0",
   "metadata": {},
   "outputs": [],
   "source": [
    "sns.barplot(x='label_new', y='H2S', data = df_s_d[df_s_t['label_type']=='EN'][['H2S','label_new']], order=en_order)"
   ]
  },
  {
   "cell_type": "code",
   "execution_count": null,
   "id": "563e3b9c-4a68-45f6-96a6-3f84d947c11e",
   "metadata": {},
   "outputs": [],
   "source": [
    "sns.barplot(x='label_new', y='NO2', data = df_s_d[df_s_t['label_type']=='EN'][['NO2','label_new']], order=en_order)"
   ]
  },
  {
   "cell_type": "code",
   "execution_count": null,
   "id": "3c63fecf-313d-4002-95d1-98e498e98298",
   "metadata": {},
   "outputs": [],
   "source": [
    "sns.barplot(x='label_new', y='CO', data = df_s_d[df_s_t['label_type']=='EN'][['CO','label_new']], order=en_order)"
   ]
  },
  {
   "cell_type": "code",
   "execution_count": null,
   "id": "afa0dca3-fccf-4046-bded-860c21a30c6c",
   "metadata": {},
   "outputs": [],
   "source": []
  },
  {
   "cell_type": "code",
   "execution_count": null,
   "id": "1de5daf9-e92c-4d6a-93ef-189d09eff002",
   "metadata": {},
   "outputs": [],
   "source": []
  },
  {
   "cell_type": "code",
   "execution_count": null,
   "id": "3f8ab571-2be2-4286-92fd-cb72240b4571",
   "metadata": {},
   "outputs": [],
   "source": []
  },
  {
   "cell_type": "code",
   "execution_count": null,
   "id": "4a64f362-757c-4567-8912-f7c55a391af5",
   "metadata": {},
   "outputs": [],
   "source": []
  },
  {
   "cell_type": "code",
   "execution_count": null,
   "id": "66bcefa1-4c7c-4031-b29f-7bc50b0a4bd5",
   "metadata": {},
   "outputs": [],
   "source": []
  },
  {
   "cell_type": "code",
   "execution_count": null,
   "id": "012a1f06-40b7-4b93-bad3-c336cb6e5a44",
   "metadata": {},
   "outputs": [],
   "source": []
  },
  {
   "cell_type": "code",
   "execution_count": null,
   "id": "69bef335-b534-4973-8da6-745643927f2b",
   "metadata": {},
   "outputs": [],
   "source": []
  },
  {
   "cell_type": "code",
   "execution_count": null,
   "id": "e63202bd-396e-479b-be2c-b85384a0ef58",
   "metadata": {},
   "outputs": [],
   "source": []
  },
  {
   "cell_type": "code",
   "execution_count": null,
   "id": "8cacaed7-262b-4964-8ca6-fdaf52250d40",
   "metadata": {},
   "outputs": [],
   "source": []
  },
  {
   "cell_type": "code",
   "execution_count": null,
   "id": "e81ead6b-162e-4410-a263-d4bb6a74875f",
   "metadata": {},
   "outputs": [],
   "source": []
  },
  {
   "cell_type": "code",
   "execution_count": null,
   "id": "d5c7274a-504c-46aa-b5e7-4346dd6fedfb",
   "metadata": {},
   "outputs": [],
   "source": []
  },
  {
   "cell_type": "code",
   "execution_count": null,
   "id": "d17f6a4f-14d7-4805-b067-1943b5bfc21a",
   "metadata": {},
   "outputs": [],
   "source": [
    "grouped = df_s_d.groupby('label_new')\n",
    "\n",
    "fig, axes = plt.subplots(nrows=4, ncols=3, figsize=(12, 16))\n",
    "rows = axes.shape[0]\n",
    "cols = axes.shape[1]\n",
    "\n",
    "alpha = 0.5\n",
    "\n",
    "i=0\n",
    "for r in range(rows):\n",
    "    for c in range(cols):\n",
    "        for label_type, group in grouped:\n",
    "            try: \n",
    "                axes[r,c].hist(group[sensors[i]], alpha=alpha, label=label_type)\n",
    "                axes[r,c].set_title('Distribution of {} by Label Type'.format(sensors[i]))\n",
    "                axes[r,c].legend()\n",
    "            except:\n",
    "                pass\n",
    "        i+=1\n",
    "\n",
    "# Adjust the layout and spacing of the subplots\n",
    "fig.tight_layout()\n",
    "\n",
    "# Show the plot\n",
    "plt.show()"
   ]
  },
  {
   "cell_type": "code",
   "execution_count": null,
   "id": "2388085b-a383-49ed-8f65-5d843c960462",
   "metadata": {},
   "outputs": [],
   "source": []
  },
  {
   "cell_type": "code",
   "execution_count": null,
   "id": "33624f87-a1ef-4ad4-80b5-f5ed616e3e7b",
   "metadata": {},
   "outputs": [],
   "source": []
  }
 ],
 "metadata": {
  "kernelspec": {
   "display_name": "Python 3.7.10 64-bit ('user')",
   "language": "python",
   "name": "python3"
  },
  "language_info": {
   "codemirror_mode": {
    "name": "ipython",
    "version": 3
   },
   "file_extension": ".py",
   "mimetype": "text/x-python",
   "name": "python",
   "nbconvert_exporter": "python",
   "pygments_lexer": "ipython3",
   "version": "3.7.10"
  },
  "vscode": {
   "interpreter": {
    "hash": "4073845fb37e5e91a7e4a5aa5d982e60b118e70ad895c083f27423fb55749714"
   }
  }
 },
 "nbformat": 4,
 "nbformat_minor": 5
}
